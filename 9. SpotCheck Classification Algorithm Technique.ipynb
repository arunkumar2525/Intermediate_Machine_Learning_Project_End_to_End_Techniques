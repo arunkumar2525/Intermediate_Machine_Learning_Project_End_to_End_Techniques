{
 "cells": [
  {
   "cell_type": "code",
   "execution_count": null,
   "metadata": {},
   "outputs": [],
   "source": [
    "# Spot Checking is a way of discovering which algorithm performs well on our machine learning problem.\n",
    "# we must use trial and error to discover a shortlist of algorithm that do well on our problems.\n",
    "# We call this process as spot checking"
   ]
  },
  {
   "cell_type": "code",
   "execution_count": 9,
   "metadata": {},
   "outputs": [
    {
     "name": "stdout",
     "output_type": "stream",
     "text": [
      "('logistic regression accuracy:', array([0.7012987 , 0.81818182, 0.74025974, 0.71428571, 0.77922078,\n",
      "       0.75324675, 0.85714286, 0.80519481, 0.72368421, 0.80263158]))\n",
      "('logistic regression mean accuracy:', 0.7695146958304853)\n"
     ]
    }
   ],
   "source": [
    "# linear machine learning algorithm\n",
    "# Logistics Regression\n",
    "import pandas as pd\n",
    "filename='pima-indians-diabetes.csv'\n",
    "names=['preg','plas','pres','skin','test','mass','pedi','age','class']\n",
    "dataset=pd.read_csv(filename,names=names)\n",
    "array=dataset.values\n",
    "x=array[:,:-1]\n",
    "y=array[:,-1]\n",
    "#Split dataset by folds\n",
    "from sklearn.model_selection import KFold\n",
    "kfold=KFold(n_splits=10,random_state=1)\n",
    "# Building Logisitic Regression Model\n",
    "from sklearn.linear_model import LogisticRegression\n",
    "logistic=LogisticRegression()\n",
    "# Accuracy an model\n",
    "from sklearn.model_selection import cross_val_score\n",
    "accuracy=cross_val_score(logistic,x,y,cv=kfold)\n",
    "print(\"logistic regression accuracy:\",accuracy)\n",
    "print(\"logistic regression mean accuracy:\",accuracy.mean())"
   ]
  },
  {
   "cell_type": "code",
   "execution_count": 10,
   "metadata": {},
   "outputs": [
    {
     "name": "stdout",
     "output_type": "stream",
     "text": [
      "('KNN Accuracy is :', array([0.63636364, 0.83116883, 0.7012987 , 0.63636364, 0.71428571,\n",
      "       0.75324675, 0.74025974, 0.80519481, 0.68421053, 0.76315789]))\n",
      "('KNN mean Accuracy is :', 0.7265550239234451)\n"
     ]
    }
   ],
   "source": [
    "# K-Nearest Neighbor Classification Algorithm\n",
    "import pandas as pd\n",
    "filename='pima-indians-diabetes.csv'\n",
    "names=['preg','plas','pres','skin','test','mass','pedi','age','class']\n",
    "dataset=pd.read_csv(filename,names=names)\n",
    "array=dataset.values\n",
    "x=array[:,:-1]\n",
    "y=array[:,-1]\n",
    "from sklearn.model_selection import KFold\n",
    "kfold=KFold(n_splits=10,random_state=0)\n",
    "from sklearn.neighbors import KNeighborsClassifier\n",
    "knn=KNeighborsClassifier()\n",
    "from sklearn.model_selection import cross_val_score\n",
    "accuracy=cross_val_score(knn,x,y,cv=kfold)\n",
    "print(\"KNN Accuracy is :\",accuracy)\n",
    "print(\"KNN mean Accuracy is :\",accuracy.mean())"
   ]
  },
  {
   "cell_type": "code",
   "execution_count": 11,
   "metadata": {},
   "outputs": [
    {
     "name": "stdout",
     "output_type": "stream",
     "text": [
      "('Naive Bayes Algorithm Accuracy is :', array([0.67532468, 0.80519481, 0.75324675, 0.71428571, 0.72727273,\n",
      "       0.76623377, 0.80519481, 0.81818182, 0.73684211, 0.75      ]))\n",
      "('Naive Bayes Algorithm Mean Accuracy is :', 0.7551777170198223)\n"
     ]
    }
   ],
   "source": [
    "# Naive Bayes classifier algorithm\n",
    "import pandas as pd\n",
    "filename='pima-indians-diabetes.csv'\n",
    "names=['preg','plas','pres','skin','test','mass','pedi','age','class']\n",
    "dataset=pd.read_csv(filename,names=names)\n",
    "x=dataset.iloc[:,:-1].values\n",
    "y=dataset.iloc[:,-1].values\n",
    "from sklearn.model_selection import KFold\n",
    "fold=KFold(n_splits=10,random_state=0)\n",
    "from sklearn.naive_bayes import GaussianNB\n",
    "model=GaussianNB()\n",
    "from sklearn.model_selection import cross_val_score\n",
    "accuracy=cross_val_score(model,x,y,cv=fold)\n",
    "print(\"Naive Bayes Algorithm Accuracy is :\",accuracy)\n",
    "print(\"Naive Bayes Algorithm Mean Accuracy is :\",accuracy.mean())"
   ]
  },
  {
   "cell_type": "code",
   "execution_count": 12,
   "metadata": {},
   "outputs": [
    {
     "name": "stderr",
     "output_type": "stream",
     "text": [
      "C:\\ProgramData\\Anaconda2\\lib\\site-packages\\sklearn\\svm\\base.py:196: FutureWarning: The default value of gamma will change from 'auto' to 'scale' in version 0.22 to account better for unscaled features. Set gamma explicitly to 'auto' or 'scale' to avoid this warning.\n",
      "  \"avoid this warning.\", FutureWarning)\n"
     ]
    },
    {
     "name": "stdout",
     "output_type": "stream",
     "text": [
      "('Accuracy for SVM :', array([0.58441558, 0.71428571, 0.55844156, 0.61038961, 0.64935065,\n",
      "       0.61038961, 0.81818182, 0.67532468, 0.68421053, 0.60526316]))\n",
      "('Mean Accuracy for svm :', 0.6510252904989747)\n"
     ]
    }
   ],
   "source": [
    "# Support Vector machine classification algorithm\n",
    "import pandas as pd\n",
    "filename='pima-indians-diabetes.csv'\n",
    "names=['preg','plas','pres','skin','test','mass','pedi','age','class']\n",
    "dataset=pd.read_csv(filename,names=names)\n",
    "x=dataset.iloc[:,:-1].values\n",
    "y=dataset.iloc[:,-1].values\n",
    "from sklearn.model_selection import KFold\n",
    "fold=KFold(n_splits=10,random_state=0)\n",
    "from sklearn.svm import SVC\n",
    "model=SVC()\n",
    "from sklearn.model_selection import cross_val_score\n",
    "accuracy=cross_val_score(model,x,y,cv=fold)\n",
    "print(\"Accuracy for SVM :\",accuracy)\n",
    "print(\"Mean Accuracy for svm :\",accuracy.mean())"
   ]
  },
  {
   "cell_type": "code",
   "execution_count": 13,
   "metadata": {},
   "outputs": [
    {
     "name": "stdout",
     "output_type": "stream",
     "text": [
      "('Accuarcy Decision Tree classification algorithm :', array([0.66233766, 0.76623377, 0.63636364, 0.57142857, 0.7012987 ,\n",
      "       0.66233766, 0.77922078, 0.77922078, 0.67105263, 0.68421053]))\n",
      "('Mean Accuracy Decision Tree Classification Algorithm:', 0.6913704716336296)\n"
     ]
    }
   ],
   "source": [
    "# Decision Tree Classifier Algorithm\n",
    "import pandas as pd\n",
    "filename='pima-indians-diabetes.csv'\n",
    "names=['preg','plas','pres','skin','test','mass','pedi','age','class']\n",
    "dataset=pd.read_csv(filename,names=names)\n",
    "array=dataset.values\n",
    "x=array[:,:-1]\n",
    "y=array[:,-1]\n",
    "from sklearn.model_selection import KFold\n",
    "fold=KFold(n_splits=10,random_state=0)\n",
    "from sklearn.tree import DecisionTreeClassifier\n",
    "model=DecisionTreeClassifier()\n",
    "from sklearn.model_selection import cross_val_score\n",
    "accuracy=cross_val_score(model,x,y,cv=fold)\n",
    "print(\"Accuarcy Decision Tree classification algorithm :\",accuracy)\n",
    "print(\"Mean Accuracy Decision Tree Classification Algorithm:\",accuracy.mean())"
   ]
  },
  {
   "cell_type": "code",
   "execution_count": 18,
   "metadata": {},
   "outputs": [
    {
     "name": "stdout",
     "output_type": "stream",
     "text": [
      "('Accuacy for Random Forest Classification Algorithm :', array([0.7012987 , 0.79220779, 0.7012987 , 0.66233766, 0.75324675,\n",
      "       0.76623377, 0.84415584, 0.81818182, 0.76315789, 0.73684211]))\n",
      "('Mean Accuracy for Random Forest Classification Algorithm :', 0.753896103896104)\n"
     ]
    }
   ],
   "source": [
    "# Random Forest Classification Algorithm\n",
    "import pandas as pd\n",
    "filename='pima-indians-diabetes.csv'\n",
    "names=['preg','plas','pres','skin','test','mass','pedi','age','class']\n",
    "dataset=pd.read_csv(filename,names=names)\n",
    "array=dataset.values\n",
    "x=array[:,:-1]\n",
    "y=array[:,-1]\n",
    "from sklearn.model_selection import KFold\n",
    "fold=KFold(n_splits=10,random_state=0)\n",
    "from sklearn.ensemble import RandomForestClassifier\n",
    "model=RandomForestClassifier(n_estimators=10,random_state=0)\n",
    "from sklearn.model_selection import cross_val_score\n",
    "accuracy=cross_val_score(model,x,y,cv=fold)\n",
    "print(\"Accuacy for Random Forest Classification Algorithm :\",accuracy)\n",
    "print(\"Mean Accuracy for Random Forest Classification Algorithm :\",accuracy.mean())"
   ]
  },
  {
   "cell_type": "code",
   "execution_count": null,
   "metadata": {},
   "outputs": [],
   "source": [
    "# For this pima-indians-diabetes.csv dataset among we got lot of accuracy in different algorithms\n",
    "# But Logistic regression ,Naive Bayes and Random Forest Algorithm provide the best accuracy."
   ]
  }
 ],
 "metadata": {
  "kernelspec": {
   "display_name": "Python 2",
   "language": "python",
   "name": "python2"
  },
  "language_info": {
   "codemirror_mode": {
    "name": "ipython",
    "version": 2
   },
   "file_extension": ".py",
   "mimetype": "text/x-python",
   "name": "python",
   "nbconvert_exporter": "python",
   "pygments_lexer": "ipython2",
   "version": "2.7.16"
  }
 },
 "nbformat": 4,
 "nbformat_minor": 2
}
