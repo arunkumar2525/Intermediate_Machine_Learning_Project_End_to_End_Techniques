{
 "cells": [
  {
   "cell_type": "code",
   "execution_count": null,
   "metadata": {},
   "outputs": [],
   "source": [
    "'''Working thorugh machine learning problems from end to end is critically important.'''"
   ]
  },
  {
   "cell_type": "code",
   "execution_count": null,
   "metadata": {},
   "outputs": [],
   "source": [
    "'''Template Summary.\n",
    "\n",
    "# Python project Template\n",
    "\n",
    "1. prepare problem\n",
    " a.load libraries\n",
    " b. load dataset\n",
    "\n",
    "2. summarize data\n",
    " a. Descriptive Statistics\n",
    " b. Data Visualization\n",
    " \n",
    "3. Prepare data\n",
    " a. Data Cleaning\n",
    " b. Feature Selection\n",
    " c. Data transformation\n",
    "\n",
    "4. Evaluate Algorithms\n",
    " a. split_out validation dataset\n",
    " b. Test Options And Evaluate Metric\n",
    " c. Spot Check Algorithms\n",
    " d. Compare Algorithms\n",
    " \n",
    "5. Improving Accuracy\n",
    " a. Algorithm Tuning\n",
    " b. Ensemble\n",
    " \n",
    "6. Finalize Model\n",
    " a. predictions on validation dataset\n",
    " b. create standalone model on entire training dataset\n",
    " c. save model for later use'''"
   ]
  }
 ],
 "metadata": {
  "kernelspec": {
   "display_name": "Python 2",
   "language": "python",
   "name": "python2"
  },
  "language_info": {
   "codemirror_mode": {
    "name": "ipython",
    "version": 2
   },
   "file_extension": ".py",
   "mimetype": "text/x-python",
   "name": "python",
   "nbconvert_exporter": "python",
   "pygments_lexer": "ipython2",
   "version": "2.7.16"
  }
 },
 "nbformat": 4,
 "nbformat_minor": 2
}
