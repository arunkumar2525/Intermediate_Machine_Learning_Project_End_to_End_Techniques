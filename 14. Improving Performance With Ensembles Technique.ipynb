{
 "cells": [
  {
   "cell_type": "code",
   "execution_count": null,
   "metadata": {},
   "outputs": [],
   "source": [
    "'''Ensemble can give you a boost in accuracy on our dataset.\n",
    "  1. Bagging ensemble methods such as bagged decision trees,random forest and extra trees\n",
    "  2. Boosting ensemble methods such as AdaBoost and stochastic gradient boosting.'''"
   ]
  },
  {
   "cell_type": "code",
   "execution_count": null,
   "metadata": {},
   "outputs": [],
   "source": [
    "# Bagging trees"
   ]
  },
  {
   "cell_type": "code",
   "execution_count": 4,
   "metadata": {},
   "outputs": [
    {
     "name": "stdout",
     "output_type": "stream",
     "text": [
      "('Accuracy for bagging Decision Tree Classifier:', array([0.62337662, 0.80519481, 0.75324675, 0.62337662, 0.83116883,\n",
      "       0.83116883, 0.84415584, 0.84415584, 0.71052632, 0.76315789]))\n",
      "('Mean Accuracy for bagging decision tree classifier', 0.7629528366370472)\n"
     ]
    }
   ],
   "source": [
    "# Bagged Decision Tree Classifier\n",
    "\n",
    "# Load data\n",
    "import pandas as pd\n",
    "filename='pima-indians-diabetes.csv'\n",
    "names=['preg','plas','pres','skin','test','mass','pedi','age','class']\n",
    "dataset=pd.read_csv(filename,names=names)\n",
    "array=dataset.values\n",
    "x=array[:,:-1]\n",
    "y=array[:,-1]\n",
    "\n",
    "\n",
    "# Create Model\n",
    "from sklearn.pipeline import Pipeline\n",
    "from sklearn.tree import DecisionTreeClassifier\n",
    "from sklearn.ensemble import BaggingClassifier\n",
    "estimators=[]\n",
    "trees=100\n",
    "decision=DecisionTreeClassifier()\n",
    "model=BaggingClassifier(base_estimator=decision,n_estimators=trees,random_state=0)\n",
    "\n",
    "# Evaluate Model\n",
    "from sklearn.model_selection import KFold\n",
    "from sklearn.model_selection import cross_val_score\n",
    "fold=KFold(n_splits=10,random_state=0)\n",
    "accuracy=cross_val_score(model,x,y,cv=fold)\n",
    "print(\"Accuracy for bagging Decision Tree Classifier:\",accuracy)\n",
    "print(\"Mean Accuracy for bagging decision tree classifier\",accuracy.mean())"
   ]
  },
  {
   "cell_type": "code",
   "execution_count": 11,
   "metadata": {},
   "outputs": [
    {
     "name": "stdout",
     "output_type": "stream",
     "text": [
      "('Accuracy For Random Forest Classifier', array([0.68831169, 0.81818182, 0.7012987 , 0.66233766, 0.79220779,\n",
      "       0.80519481, 0.87012987, 0.87012987, 0.72368421, 0.80263158]))\n",
      "('Mean Accuracy For Random Forest Classifier', 0.7734107997265892)\n"
     ]
    }
   ],
   "source": [
    "# Random Forest Classifier \n",
    "# Random Forest Classifier is an extension of bagged decision tree\n",
    "# the trees are constructed in a way that reduces the correlation between individual classifier.\n",
    "import pandas as pd\n",
    "filename='pima-indians-diabetes.csv'\n",
    "names=['preg','plas','pres','skin','test','mass','pedi','age','class']\n",
    "dataset=pd.read_csv(filename,names=names)\n",
    "array=dataset.values\n",
    "x=array[:,:-1]\n",
    "y=array[:,-1]\n",
    "\n",
    "# Create a pipeline\n",
    "estimators=[]\n",
    "num_tree=100\n",
    "max_features=3\n",
    "from sklearn.pipeline import Pipeline\n",
    "from sklearn.ensemble import RandomForestClassifier\n",
    "from sklearn.preprocessing import StandardScaler\n",
    "estimators.append(('StandardScaler',StandardScaler()))\n",
    "estimators.append(('random_forest',RandomForestClassifier(n_estimators=num_tree,max_features=max_features,random_state=1)))\n",
    "model=Pipeline(estimators)\n",
    "\n",
    "# Evaluate a pipeline\n",
    "from sklearn.model_selection import KFold\n",
    "from sklearn.model_selection import cross_val_score\n",
    "fold=KFold(n_splits=10,random_state=1)\n",
    "accuracy=cross_val_score(model,x,y,cv=fold)\n",
    "print(\"Accuracy For Random Forest Classifier\",accuracy)\n",
    "print(\"Mean Accuracy For Random Forest Classifier\",accuracy.mean())"
   ]
  },
  {
   "cell_type": "code",
   "execution_count": 15,
   "metadata": {},
   "outputs": [
    {
     "name": "stdout",
     "output_type": "stream",
     "text": [
      "('Accuracy For Extra Tree', array([0.72727273, 0.88311688, 0.68831169, 0.64935065, 0.84415584,\n",
      "       0.80519481, 0.81818182, 0.83116883, 0.75      , 0.77631579]))\n",
      "('Mean Accuracy For Extra Tree', 0.7773069036226932)\n"
     ]
    }
   ],
   "source": [
    "# Extra tree are another modification of bagging where random trees are constructed from sample\n",
    "# of the training dataset\n",
    "\n",
    "#load data\n",
    "import pandas as pd\n",
    "filename='pima-indians-diabetes.csv'\n",
    "names=['preg','plas','pres','skin','test','mass','pedi','age','class']\n",
    "dataset=pd.read_csv(filename,names=names)\n",
    "x=dataset.iloc[:,:-1].values\n",
    "y=dataset.iloc[:,-1].values\n",
    "\n",
    "\n",
    "# feature extraction\n",
    "features=[]\n",
    "from sklearn.decomposition import PCA\n",
    "from sklearn.feature_selection import SelectKBest\n",
    "from sklearn.pipeline import FeatureUnion\n",
    "features.append(('pca',PCA(n_components=3)))\n",
    "features.append(('select best features',SelectKBest(k=6)))\n",
    "feature=FeatureUnion(features)\n",
    "\n",
    "# Create a Pipeline\n",
    "num_tree=100\n",
    "estimators=[]\n",
    "from sklearn.pipeline import Pipeline\n",
    "from sklearn.ensemble import ExtraTreesClassifier\n",
    "estimators.append(('features select',feature))\n",
    "estimators.append(('Extra Tree Classifier',ExtraTreesClassifier(n_estimators=num_tree,random_state=1)))\n",
    "model=Pipeline(estimators)\n",
    "\n",
    "# Evaluate a Pipeline\n",
    "from sklearn.model_selection import KFold\n",
    "from sklearn.model_selection import cross_val_score\n",
    "fold=KFold(n_splits=10,random_state=1)\n",
    "accuracy=cross_val_score(model,x,y,cv=fold)\n",
    "print(\"Accuracy For Extra Tree\",accuracy)\n",
    "print(\"Mean Accuracy For Extra Tree\",accuracy.mean())"
   ]
  },
  {
   "cell_type": "code",
   "execution_count": null,
   "metadata": {},
   "outputs": [],
   "source": []
  }
 ],
 "metadata": {
  "kernelspec": {
   "display_name": "Python 2",
   "language": "python",
   "name": "python2"
  },
  "language_info": {
   "codemirror_mode": {
    "name": "ipython",
    "version": 2
   },
   "file_extension": ".py",
   "mimetype": "text/x-python",
   "name": "python",
   "nbconvert_exporter": "python",
   "pygments_lexer": "ipython2",
   "version": "2.7.16"
  }
 },
 "nbformat": 4,
 "nbformat_minor": 2
}
