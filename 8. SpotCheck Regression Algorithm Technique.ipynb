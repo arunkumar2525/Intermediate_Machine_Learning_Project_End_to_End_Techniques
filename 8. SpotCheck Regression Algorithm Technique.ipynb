{
 "cells": [
  {
   "cell_type": "code",
   "execution_count": null,
   "metadata": {},
   "outputs": [],
   "source": [
    "# Spot check is a way of discovering which algorithm perform well on our machine learning problem."
   ]
  },
  {
   "cell_type": "code",
   "execution_count": 11,
   "metadata": {},
   "outputs": [
    {
     "name": "stdout",
     "output_type": "stream",
     "text": [
      "('Accuracy for Linear Regression Algorithm:', array([  -9.28694671,  -14.15128316,  -14.07360615,  -35.20692433,\n",
      "        -31.88511666,  -19.83587796,   -9.94726918, -168.37537954,\n",
      "        -33.32974507,  -10.96041068]))\n",
      "('Mean error Accuracy for Linear Regression Algorithm :', -34.70525594452485)\n"
     ]
    }
   ],
   "source": [
    "# Linear Regression Algorithm\n",
    "import pandas as pd\n",
    "filename='Boston_housing.csv'\n",
    "names=['CRIM','ZN','INDUS','CHAS','NOX','RM','AGE','DIS','RAD','TAX','PTRATIO','B','LSTAT','MEDV']\n",
    "dataset=pd.read_csv(filename,delim_whitespace=True,names=names)\n",
    "array=dataset.values\n",
    "x=array[:,:-1]\n",
    "y=array[:,-1]\n",
    "from sklearn.model_selection import KFold\n",
    "fold=KFold(n_splits=10,random_state=0)\n",
    "from sklearn.linear_model import LinearRegression\n",
    "model=LinearRegression()\n",
    "from sklearn.model_selection import cross_val_score\n",
    "error='neg_mean_squared_error'\n",
    "accuracy=cross_val_score(model,x,y,cv=fold,scoring=error)\n",
    "print(\"Accuracy for Linear Regression Algorithm:\",accuracy)\n",
    "print(\"Mean Error Accuracy for Linear Regression Algorithm :\",accuracy.mean())"
   ]
  },
  {
   "cell_type": "code",
   "execution_count": 13,
   "metadata": {},
   "outputs": [
    {
     "name": "stdout",
     "output_type": "stream",
     "text": [
      "('Accuracy For Support Vector Regression:', array([ -35.98242058,  -38.96338334,  -21.50502878, -208.42251405,\n",
      "       -119.6150654 , -192.05203756,  -16.36450487, -164.40920629,\n",
      "        -86.93927848,  -26.22480399]))\n",
      "('Mean Error Accuracy For Support Vector Regression :', -91.04782433324428)\n"
     ]
    }
   ],
   "source": [
    "# Support Vector Regression Algorithm\n",
    "import pandas as pd\n",
    "filename='Boston_housing.csv'\n",
    "names=['CRIM','ZN','INDUS','CHAS','NOX','RM','AGE','DIS','RAD','TAX','PTRATIO','B','LSTAT','MEDV']\n",
    "dataset=pd.read_csv(filename,delim_whitespace=True,names=names)\n",
    "array=dataset.values\n",
    "x=array[:,:-1]\n",
    "y=array[:,-1]\n",
    "from sklearn.model_selection import KFold\n",
    "fold=KFold(n_splits=10,random_state=0)\n",
    "from sklearn.svm import SVR\n",
    "model=SVR()\n",
    "from sklearn.model_selection import cross_val_score\n",
    "error='neg_mean_squared_error'\n",
    "accuracy=cross_val_score(model,x,y,cv=fold,scoring=error)\n",
    "print(\"Accuracy For Support Vector Regression:\",accuracy)\n",
    "print(\"Mean Error Accuracy For Support Vector Regression :\",accuracy.mean())"
   ]
  },
  {
   "cell_type": "code",
   "execution_count": 14,
   "metadata": {},
   "outputs": [
    {
     "name": "stdout",
     "output_type": "stream",
     "text": [
      "('Accuracy for K Nearest Neighbors Regression :', array([ -81.98062745,  -59.01574902, -305.87251765, -165.2269098 ,\n",
      "        -96.91126275, -124.54184314,  -41.500168  , -139.423016  ,\n",
      "        -32.196784  ,  -26.199512  ]))\n",
      "('Mean Accuracy for K Nearest Neighbors Regression :', -107.28683898039215)\n"
     ]
    }
   ],
   "source": [
    "# K-Nearest Neighbor Regression Algorithm\n",
    "import pandas as pd\n",
    "filename='Boston_housing.csv'\n",
    "names=['CRIM','ZN','INDUS','CHAS','NOX','RM','AGE','DIS','RAD','TAX','PTRATIO','B','LSTAT','MEDV']\n",
    "dataset=pd.read_csv(filename,delim_whitespace=True,names=names)\n",
    "x=dataset.iloc[:,:-1].values\n",
    "y=dataset.iloc[:,-1].values\n",
    "from sklearn.model_selection import KFold\n",
    "fold=KFold(n_splits=10,random_state=0)\n",
    "from sklearn.neighbors import KNeighborsRegressor\n",
    "model=KNeighborsRegressor()\n",
    "from sklearn.model_selection import cross_val_score\n",
    "error='neg_mean_squared_error'\n",
    "accuracy=cross_val_score(model,x,y,cv=fold,scoring=error)\n",
    "print(\"Accuracy for K Nearest Neighbors Regression :\",accuracy)\n",
    "print(\"Mean Accuracy for K Nearest Neighbors Regression :\",accuracy.mean())"
   ]
  },
  {
   "cell_type": "code",
   "execution_count": 16,
   "metadata": {},
   "outputs": [
    {
     "name": "stdout",
     "output_type": "stream",
     "text": [
      "('Accuracy For Decision Tree Regression :', array([-15.64039216, -10.54196078, -16.72058824, -47.73803922,\n",
      "       -16.65588235, -50.67      , -19.8152    , -88.8498    ,\n",
      "       -57.609     , -24.6182    ]))\n",
      "('Mean Accuracy For Decision Tree Regression :', -34.88590627450981)\n"
     ]
    }
   ],
   "source": [
    "# Decision Tree Regression Algorithm\n",
    "import pandas as pd\n",
    "filename='Boston_housing.csv'\n",
    "names=['CRIM','ZN','INDUS','CHAS','NOX','RM','AGE','DIS','RAD','TAX','PTRATIO','B','LSTAT','MEDV']\n",
    "dataset=pd.read_csv(filename,delim_whitespace=True,names=names)\n",
    "array=dataset.values\n",
    "x=array[:,:-1]\n",
    "y=array[:,-1]\n",
    "from sklearn.model_selection import KFold\n",
    "fold=KFold(n_splits=10,random_state=0)\n",
    "from sklearn.tree import DecisionTreeRegressor\n",
    "model=DecisionTreeRegressor()\n",
    "from sklearn.model_selection import cross_val_score\n",
    "error='neg_mean_squared_error'\n",
    "accuracy=cross_val_score(model,x,y,cv=fold,scoring=error)\n",
    "print(\"Accuracy For Decision Tree Regression :\",accuracy)\n",
    "print(\"Mean Accuracy For Decision Tree Regression :\",accuracy.mean())"
   ]
  },
  {
   "cell_type": "code",
   "execution_count": 22,
   "metadata": {},
   "outputs": [
    {
     "name": "stdout",
     "output_type": "stream",
     "text": [
      "(' Accuracy For Random Forest Regression Algorithm :', array([-11.89370392,  -5.56813725,  -5.55051176, -23.93648824,\n",
      "       -11.80366863, -19.21540196,  -8.145084  , -91.014068  ,\n",
      "       -49.522852  , -17.636904  ]))\n",
      "(' Mean Accuracy For Random Forest Regression Algorithm :', -24.428681976470592)\n"
     ]
    }
   ],
   "source": [
    "# Random Forest Regression Algorithm\n",
    "import pandas as pd\n",
    "filename='Boston_housing.csv'\n",
    "names=['CRIM','ZN','INDUS','CHAS','NOX','RM','AGE','DIS','RAD','TAX','PTRATIO','B','LSTAT','MEDV']\n",
    "dataset=pd.read_csv(filename,delim_whitespace=True,names=names)\n",
    "x=dataset.iloc[:,:-1].values\n",
    "y=dataset.iloc[:,-1].values\n",
    "from sklearn.model_selection import KFold\n",
    "fold=KFold(n_splits=10,random_state=1)\n",
    "from sklearn.ensemble import RandomForestRegressor\n",
    "model=RandomForestRegressor(n_estimators=10,random_state=0)\n",
    "from sklearn.model_selection import cross_val_score\n",
    "error='neg_mean_squared_error'\n",
    "accuracy=cross_val_score(model,x,y,cv=fold,scoring=error)\n",
    "print(\" Accuracy For Random Forest Regression Algorithm :\",accuracy)\n",
    "print(\" Mean Accuracy For Random Forest Regression Algorithm :\",accuracy.mean())"
   ]
  },
  {
   "cell_type": "code",
   "execution_count": null,
   "metadata": {},
   "outputs": [],
   "source": [
    "# Amogest All the accuracy Random Forest Given Better Accuracy compare to other models."
   ]
  }
 ],
 "metadata": {
  "kernelspec": {
   "display_name": "Python 2",
   "language": "python",
   "name": "python2"
  },
  "language_info": {
   "codemirror_mode": {
    "name": "ipython",
    "version": 2
   },
   "file_extension": ".py",
   "mimetype": "text/x-python",
   "name": "python",
   "nbconvert_exporter": "python",
   "pygments_lexer": "ipython2",
   "version": "2.7.16"
  }
 },
 "nbformat": 4,
 "nbformat_minor": 2
}
