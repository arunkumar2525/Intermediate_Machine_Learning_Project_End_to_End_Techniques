{
 "cells": [
  {
   "cell_type": "code",
   "execution_count": null,
   "metadata": {},
   "outputs": [],
   "source": [
    "# It is important to compare the performance for multiple different machine learning algorithm consistently.\n",
    "'''When we work on a machine learning project, we often end up with multiple good models to choose from.\n",
    "   Each model will have different performace characteristics.\n",
    "   \n",
    "   Using resampling methods like cross_validation you can get an estimate for how accurate each model\n",
    "   may be on unseen data.\n",
    "   \n",
    "   A resuable template for evaluting the performace of multiple algorithm on one dataset.\n",
    "   \n",
    "   The key to a fair comparison of machine learning algorithms is ensuring that each algorithm is \n",
    "   evaluated in the same way on the same data.\n",
    "   '''"
   ]
  },
  {
   "cell_type": "code",
   "execution_count": 20,
   "metadata": {},
   "outputs": [],
   "source": [
    "# Comparing Classification Algorithms\n",
    "\n",
    "# Load Dataset\n",
    "import pandas as pd\n",
    "filename='pima-indians-diabetes.csv'\n",
    "names=['preg','plas','pres','skin','test','mass','pedi','age','class']\n",
    "dataset=pd.read_csv(filename,names=names)\n",
    "array=dataset.values\n",
    "x=array[:,:-1]\n",
    "y=array[:,-1]"
   ]
  },
  {
   "cell_type": "code",
   "execution_count": 21,
   "metadata": {},
   "outputs": [],
   "source": [
    "# Prepare Model\n",
    "models=[]\n",
    "# Logistic Regression Classifier\n",
    "from sklearn.linear_model import LogisticRegression\n",
    "models.append(('Log_re_class',LogisticRegression()))\n",
    "# Support Vector Classifier\n",
    "from sklearn.svm import SVC\n",
    "models.append(('svc',SVC()))\n",
    "# Naive Bayes Classifier\n",
    "from sklearn.naive_bayes import GaussianNB\n",
    "models.append(('Naive_Bayes',GaussianNB()))\n",
    "# K-Nearest Neighbors Classifier\n",
    "from sklearn.neighbors import KNeighborsClassifier\n",
    "models.append(('knn',KNeighborsClassifier()))\n",
    "# Decision Tree Classifier\n",
    "from sklearn.tree import DecisionTreeClassifier\n",
    "models.append(('Decision_Tree',DecisionTreeClassifier()))\n",
    "# Random Forest Classifier\n",
    "from sklearn.ensemble import RandomForestClassifier\n",
    "models.append(('Random_Forest',RandomForestClassifier()))"
   ]
  },
  {
   "cell_type": "code",
   "execution_count": 22,
   "metadata": {},
   "outputs": [
    {
     "name": "stdout",
     "output_type": "stream",
     "text": [
      "Log_re_class : 0.769515 (0.048411) \n"
     ]
    },
    {
     "name": "stderr",
     "output_type": "stream",
     "text": [
      "C:\\ProgramData\\Anaconda2\\lib\\site-packages\\sklearn\\svm\\base.py:196: FutureWarning: The default value of gamma will change from 'auto' to 'scale' in version 0.22 to account better for unscaled features. Set gamma explicitly to 'auto' or 'scale' to avoid this warning.\n",
      "  \"avoid this warning.\", FutureWarning)\n"
     ]
    },
    {
     "name": "stdout",
     "output_type": "stream",
     "text": [
      "svc : 0.651025 (0.072141) \n",
      "Naive_Bayes : 0.755178 (0.042766) \n",
      "knn : 0.726555 (0.061821) \n",
      "Decision_Tree : 0.693900 (0.059967) \n"
     ]
    },
    {
     "name": "stderr",
     "output_type": "stream",
     "text": [
      "C:\\ProgramData\\Anaconda2\\lib\\site-packages\\sklearn\\ensemble\\forest.py:246: FutureWarning: The default value of n_estimators will change from 10 in version 0.20 to 100 in 0.22.\n",
      "  \"10 in version 0.20 to 100 in 0.22.\", FutureWarning)\n"
     ]
    },
    {
     "name": "stdout",
     "output_type": "stream",
     "text": [
      "Random_Forest : 0.742191 (0.057425) \n"
     ]
    }
   ],
   "source": [
    "# Evaluate Each Model in turn\n",
    "accuracys=[]\n",
    "names=[]\n",
    "error='accuracy'\n",
    "from sklearn.model_selection import cross_val_score\n",
    "from sklearn.model_selection import KFold\n",
    "for name, model in models:\n",
    "    fold=KFold(n_splits=10,random_state=0)\n",
    "    predict=cross_val_score(model,x,y,cv=fold,scoring=error)\n",
    "    accuracys.append(predict)\n",
    "    names.append(name)\n",
    "    msg=\"%s : %f (%f) \" %(name,predict.mean(),predict.std())\n",
    "    print(msg)"
   ]
  },
  {
   "cell_type": "code",
   "execution_count": 24,
   "metadata": {},
   "outputs": [
    {
     "data": {
      "image/png": "[encoded data removed]",
      "text/plain": [
       "<Figure size 432x288 with 1 Axes>"
      ]
     },
     "metadata": {
      "needs_background": "light"
     },
     "output_type": "display_data"
    }
   ],
   "source": [
    "# Boxplot Alogorithm coparison\n",
    "import matplotlib.pyplot as plt\n",
    "fig=plt.figure()\n",
    "fig.suptitle('Classification algoroithm comparison')\n",
    "axis=fig.add_subplot(111)\n",
    "plt.boxplot(accuracys)\n",
    "axis.set_xticklabels(names)\n",
    "plt.show()"
   ]
  },
  {
   "cell_type": "code",
   "execution_count": null,
   "metadata": {},
   "outputs": [],
   "source": [
    "# These results, it would suggest that both logisitc regression, naive bayes and random forest classifier.\n",
    "# Those 3 algorithms will be worthy for further study of this problem."
   ]
  }
 ],
 "metadata": {
  "kernelspec": {
   "display_name": "Python 2",
   "language": "python",
   "name": "python2"
  },
  "language_info": {
   "codemirror_mode": {
    "name": "ipython",
    "version": 2
   },
   "file_extension": ".py",
   "mimetype": "text/x-python",
   "name": "python",
   "nbconvert_exporter": "python",
   "pygments_lexer": "ipython2",
   "version": "2.7.16"
  }
 },
 "nbformat": 4,
 "nbformat_minor": 2
}
