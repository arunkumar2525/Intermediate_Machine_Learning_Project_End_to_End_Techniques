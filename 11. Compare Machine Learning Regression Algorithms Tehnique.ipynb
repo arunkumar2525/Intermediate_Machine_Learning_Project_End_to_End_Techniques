{
 "cells": [
  {
   "cell_type": "code",
   "execution_count": null,
   "metadata": {},
   "outputs": [],
   "source": [
    "# It is important to compare the performance for multiple different machine learning algorithm consistently."
   ]
  },
  {
   "cell_type": "code",
   "execution_count": 1,
   "metadata": {},
   "outputs": [],
   "source": [
    "# load dataset\n",
    "import pandas as pd\n",
    "filename='Boston_housing.csv'\n",
    "names=['CRIM','ZN','INDUS','CHAS','NOX','RM','AGE','DIS','RAD','TAX','PTRATIO','B','LSTAT','MEDV']\n",
    "dataset=pd.read_csv(filename,delim_whitespace=True,names=names)\n",
    "x=dataset.iloc[:,:-1].values\n",
    "y=dataset.iloc[:,-1].values"
   ]
  },
  {
   "cell_type": "code",
   "execution_count": 8,
   "metadata": {},
   "outputs": [],
   "source": [
    "# prepare models\n",
    "models=[]\n",
    "# Linear regression algorithm\n",
    "from sklearn.linear_model import LinearRegression\n",
    "models.append(('lr',LinearRegression()))\n",
    "# K-Nearest Neighbors regression algorithm\n",
    "from sklearn.neighbors import KNeighborsRegressor\n",
    "models.append(('knn',KNeighborsRegressor()))\n",
    "# Support Vector Regression\n",
    "from sklearn.svm import SVR\n",
    "models.append((\"svr\",SVR()))\n",
    "# decision Tree Regression algorithm\n",
    "from sklearn.tree import DecisionTreeRegressor\n",
    "models.append(('decision_tree',DecisionTreeRegressor()))\n",
    "# Random Forest Regression Algorithm\n",
    "from sklearn.ensemble import RandomForestRegressor\n",
    "models.append(('random_forest',RandomForestRegressor(n_estimators=10)))"
   ]
  },
  {
   "cell_type": "code",
   "execution_count": 9,
   "metadata": {},
   "outputs": [
    {
     "name": "stdout",
     "output_type": "stream",
     "text": [
      "lr : -34.705256 (45.573999)\n",
      "knn : -107.286839 (79.839529)\n",
      "svr : -91.047824 (71.101574)\n",
      "decision_tree : -34.134591 (26.167607)\n",
      "random_forest : -22.114856 (25.025878)\n"
     ]
    }
   ],
   "source": [
    "# Evaluate each model in turn\n",
    "scores=[]\n",
    "names=[]\n",
    "error='neg_mean_squared_error'\n",
    "from sklearn.model_selection import KFold\n",
    "from sklearn.model_selection import cross_val_score\n",
    "for name, model in models:\n",
    "    fold=KFold(n_splits=10,random_state=0)\n",
    "    predict=cross_val_score(model,x,y,cv=fold,scoring=error)\n",
    "    scores.append(predict)\n",
    "    names.append(name)\n",
    "    msg=\"%s : %f (%f)\"%(name,predict.mean(),predict.std())\n",
    "    print(msg)"
   ]
  },
  {
   "cell_type": "code",
   "execution_count": 10,
   "metadata": {},
   "outputs": [
    {
     "data": {
      "image/png": "[encoded data removed]",
      "text/plain": [
       "<Figure size 432x288 with 1 Axes>"
      ]
     },
     "metadata": {
      "needs_background": "light"
     },
     "output_type": "display_data"
    }
   ],
   "source": [
    "# Box plotting the algorithm comparision\n",
    "import matplotlib.pyplot as plt\n",
    "fig=plt.figure()\n",
    "fig.suptitle('Regression Algorithm Comparison')\n",
    "axis=fig.add_subplot(111)\n",
    "plt.boxplot(scores)\n",
    "axis.set_xticklabels(names)\n",
    "plt.show()"
   ]
  },
  {
   "cell_type": "code",
   "execution_count": null,
   "metadata": {},
   "outputs": [],
   "source": [
    "# It would suggest that both random forest regression, linear regression and decision tree regression.\n",
    "# Those 3 algorithms worthy of further study of this problem"
   ]
  }
 ],
 "metadata": {
  "kernelspec": {
   "display_name": "Python 2",
   "language": "python",
   "name": "python2"
  },
  "language_info": {
   "codemirror_mode": {
    "name": "ipython",
    "version": 2
   },
   "file_extension": ".py",
   "mimetype": "text/x-python",
   "name": "python",
   "nbconvert_exporter": "python",
   "pygments_lexer": "ipython2",
   "version": "2.7.16"
  }
 },
 "nbformat": 4,
 "nbformat_minor": 2
}
