{
 "cells": [
  {
   "cell_type": "code",
   "execution_count": null,
   "metadata": {},
   "outputs": [],
   "source": [
    "'''Feature Extraction is another procedure that is susceptible to data leakage.\n",
    "Like data preparation,feature extraction procedure must be restricted to the data in our training \n",
    "dataset.\n",
    "'''"
   ]
  },
  {
   "cell_type": "code",
   "execution_count": 6,
   "metadata": {},
   "outputs": [],
   "source": [
    "# Load data\n",
    "import pandas as pd\n",
    "filename='pima-indians-diabetes.csv'\n",
    "names=['preg','plas','pres','skin','test','mass','pedi','age','class']\n",
    "dataset=pd.read_csv(filename,names=names)\n",
    "x=dataset.iloc[:,:-1].values\n",
    "y=dataset.iloc[:,-1].values"
   ]
  },
  {
   "cell_type": "code",
   "execution_count": 10,
   "metadata": {},
   "outputs": [],
   "source": [
    "# Feature Extraction\n",
    "from sklearn.decomposition import PCA\n",
    "from sklearn.feature_selection import SelectKBest\n",
    "from sklearn.pipeline import FeatureUnion\n",
    "features=[]\n",
    "# Feature Extraction with Principal Component Analysis\n",
    "features.append(('PCA',PCA(n_components=3)))\n",
    "# Feature Extraction with Statistical section\n",
    "features.append(('Select_Best',SelectKBest(k=6)))\n",
    "# Feature Union\n",
    "feature_union=FeatureUnion(features)"
   ]
  },
  {
   "cell_type": "code",
   "execution_count": 11,
   "metadata": {},
   "outputs": [],
   "source": [
    "# Create Pipeline\n",
    "estimators=[]\n",
    "from sklearn.linear_model import LogisticRegression\n",
    "from sklearn.pipeline import Pipeline\n",
    "estimators.append(('feature_union',feature_union))\n",
    "estimators.append(('logistic_regression',LogisticRegression()))\n",
    "model=Pipeline(estimators)"
   ]
  },
  {
   "cell_type": "code",
   "execution_count": 12,
   "metadata": {},
   "outputs": [
    {
     "name": "stdout",
     "output_type": "stream",
     "text": [
      "('Accuracy of an model :', array([0.68831169, 0.81818182, 0.76623377, 0.68831169, 0.77922078,\n",
      "       0.79220779, 0.84415584, 0.83116883, 0.75      , 0.80263158]))\n",
      "('Mean Accuracy of an model is :', 0.7760423786739576)\n"
     ]
    },
    {
     "name": "stderr",
     "output_type": "stream",
     "text": [
      "C:\\ProgramData\\Anaconda2\\lib\\site-packages\\sklearn\\linear_model\\logistic.py:433: FutureWarning: Default solver will be changed to 'lbfgs' in 0.22. Specify a solver to silence this warning.\n",
      "  FutureWarning)\n"
     ]
    }
   ],
   "source": [
    "# Evaluate feature extraction and pipeline\n",
    "from sklearn.model_selection import KFold\n",
    "from sklearn.model_selection import cross_val_score\n",
    "fold=KFold(n_splits=10,random_state=0)\n",
    "accuracy=cross_val_score(model,x,y,cv=fold)\n",
    "print(\"Accuracy of an model :\",accuracy)\n",
    "print(\"Mean Accuracy of an model is :\",accuracy.mean())"
   ]
  },
  {
   "cell_type": "code",
   "execution_count": null,
   "metadata": {},
   "outputs": [],
   "source": [
    "# We can Notice how the FeatureUnion is its own pipeline that in turn is a single step in the final p"
   ]
  }
 ],
 "metadata": {
  "kernelspec": {
   "display_name": "Python 2",
   "language": "python",
   "name": "python2"
  },
  "language_info": {
   "codemirror_mode": {
    "name": "ipython",
    "version": 2
   },
   "file_extension": ".py",
   "mimetype": "text/x-python",
   "name": "python",
   "nbconvert_exporter": "python",
   "pygments_lexer": "ipython2",
   "version": "2.7.16"
  }
 },
 "nbformat": 4,
 "nbformat_minor": 2
}
