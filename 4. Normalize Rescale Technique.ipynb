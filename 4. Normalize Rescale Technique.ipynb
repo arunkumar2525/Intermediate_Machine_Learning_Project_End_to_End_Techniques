{
 "cells": [
  {
   "cell_type": "code",
   "execution_count": 1,
   "metadata": {},
   "outputs": [
    {
     "name": "stdout",
     "output_type": "stream",
     "text": [
      "   preg  plas  pres  skin  test  mass   pedi  age  class\n",
      "0     6   148    72    35     0  33.6  0.627   50      1\n"
     ]
    }
   ],
   "source": [
    "import pandas as pd\n",
    "fileName='pima-indians-diabetes.csv'\n",
    "names=['preg','plas','pres','skin','test','mass','pedi','age','class']\n",
    "dataset=pd.read_csv(fileName,names=names)\n",
    "print(dataset.head(1))"
   ]
  },
  {
   "cell_type": "code",
   "execution_count": 2,
   "metadata": {},
   "outputs": [
    {
     "name": "stdout",
     "output_type": "stream",
     "text": [
      "[[0.03355237 0.82762513 0.40262844 0.19572216 0.         0.18789327\n",
      "  0.00350622 0.27960308]\n",
      " [0.008424   0.71604034 0.55598426 0.24429612 0.         0.22407851\n",
      "  0.00295683 0.26114412]\n",
      " [0.04039768 0.92409698 0.32318146 0.         0.         0.11765825\n",
      "  0.00339341 0.16159073]\n",
      " [0.00661199 0.58846737 0.43639153 0.15207584 0.62152733 0.185797\n",
      "  0.0011042  0.13885185]\n",
      " [0.         0.5963863  0.17412739 0.15236146 0.73133502 0.18762226\n",
      "  0.00996009 0.14365509]]\n"
     ]
    }
   ],
   "source": [
    "x=dataset.iloc[:,:-1].values\n",
    "y=dataset.iloc[:,-1].values\n",
    "from sklearn.preprocessing import Normalizer\n",
    "normalizer=Normalizer()\n",
    "normalizer.fit(x)\n",
    "x=normalizer.transform(x)\n",
    "print(x[:5,:])"
   ]
  },
  {
   "cell_type": "code",
   "execution_count": null,
   "metadata": {},
   "outputs": [],
   "source": []
  }
 ],
 "metadata": {
  "kernelspec": {
   "display_name": "Python 2",
   "language": "python",
   "name": "python2"
  },
  "language_info": {
   "codemirror_mode": {
    "name": "ipython",
    "version": 2
   },
   "file_extension": ".py",
   "mimetype": "text/x-python",
   "name": "python",
   "nbconvert_exporter": "python",
   "pygments_lexer": "ipython2",
   "version": "2.7.16"
  }
 },
 "nbformat": 4,
 "nbformat_minor": 2
}
